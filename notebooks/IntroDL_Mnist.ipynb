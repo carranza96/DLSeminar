{
  "nbformat": 4,
  "nbformat_minor": 0,
  "metadata": {
    "colab": {
      "name": "IntroDL-Mnist",
      "provenance": [],
      "include_colab_link": true
    },
    "kernelspec": {
      "name": "python3",
      "display_name": "Python 3"
    },
    "accelerator": "GPU"
  },
  "cells": [
    {
      "cell_type": "markdown",
      "metadata": {
        "id": "view-in-github",
        "colab_type": "text"
      },
      "source": [
        "<a href=\"https://colab.research.google.com/github/carranza96/DLSeminar/blob/master/notebooks/IntroDL_Mnist.ipynb\" target=\"_parent\"><img src=\"https://colab.research.google.com/assets/colab-badge.svg\" alt=\"Open In Colab\"/></a>"
      ]
    },
    {
      "cell_type": "code",
      "metadata": {
        "id": "r7v5_aIBuJc-",
        "colab_type": "code",
        "colab": {
          "base_uri": "https://localhost:8080/",
          "height": 921
        },
        "outputId": "b7a21f71-407a-449f-ffdc-1cf5682541ab"
      },
      "source": [
        "%pip install tensorflow==2.1\n",
        "import tensorflow as tf\n",
        "import tensorflow.keras as keras\n",
        "from tensorflow.keras.datasets import mnist\n",
        "from tensorflow.keras.layers import Input, Dense, Dropout, Flatten, Conv2D, MaxPool2D\n",
        "from tensorflow.keras import backend as K\n",
        "import numpy as np\n",
        "import matplotlib.pyplot as plt\n"
      ],
      "execution_count": 1,
      "outputs": [
        {
          "output_type": "stream",
          "text": [
            "Collecting tensorflow==2.1\n",
            "\u001b[?25l  Downloading https://files.pythonhosted.org/packages/85/d4/c0cd1057b331bc38b65478302114194bd8e1b9c2bbc06e300935c0e93d90/tensorflow-2.1.0-cp36-cp36m-manylinux2010_x86_64.whl (421.8MB)\n",
            "\u001b[K     |████████████████████████████████| 421.8MB 39kB/s \n",
            "\u001b[?25hCollecting tensorboard<2.2.0,>=2.1.0\n",
            "\u001b[?25l  Downloading https://files.pythonhosted.org/packages/40/23/53ffe290341cd0855d595b0a2e7485932f473798af173bbe3a584b99bb06/tensorboard-2.1.0-py3-none-any.whl (3.8MB)\n",
            "\u001b[K     |████████████████████████████████| 3.8MB 56.8MB/s \n",
            "\u001b[?25hRequirement already satisfied: protobuf>=3.8.0 in /usr/local/lib/python3.6/dist-packages (from tensorflow==2.1) (3.10.0)\n",
            "Requirement already satisfied: grpcio>=1.8.6 in /usr/local/lib/python3.6/dist-packages (from tensorflow==2.1) (1.27.1)\n",
            "Requirement already satisfied: numpy<2.0,>=1.16.0 in /usr/local/lib/python3.6/dist-packages (from tensorflow==2.1) (1.17.5)\n",
            "Requirement already satisfied: astor>=0.6.0 in /usr/local/lib/python3.6/dist-packages (from tensorflow==2.1) (0.8.1)\n",
            "Requirement already satisfied: keras-applications>=1.0.8 in /usr/local/lib/python3.6/dist-packages (from tensorflow==2.1) (1.0.8)\n",
            "Collecting tensorflow-estimator<2.2.0,>=2.1.0rc0\n",
            "\u001b[?25l  Downloading https://files.pythonhosted.org/packages/18/90/b77c328a1304437ab1310b463e533fa7689f4bfc41549593056d812fab8e/tensorflow_estimator-2.1.0-py2.py3-none-any.whl (448kB)\n",
            "\u001b[K     |████████████████████████████████| 450kB 71.5MB/s \n",
            "\u001b[?25hRequirement already satisfied: gast==0.2.2 in /usr/local/lib/python3.6/dist-packages (from tensorflow==2.1) (0.2.2)\n",
            "Requirement already satisfied: six>=1.12.0 in /usr/local/lib/python3.6/dist-packages (from tensorflow==2.1) (1.12.0)\n",
            "Requirement already satisfied: keras-preprocessing>=1.1.0 in /usr/local/lib/python3.6/dist-packages (from tensorflow==2.1) (1.1.0)\n",
            "Requirement already satisfied: wheel>=0.26; python_version >= \"3\" in /usr/local/lib/python3.6/dist-packages (from tensorflow==2.1) (0.34.2)\n",
            "Requirement already satisfied: scipy==1.4.1; python_version >= \"3\" in /usr/local/lib/python3.6/dist-packages (from tensorflow==2.1) (1.4.1)\n",
            "Requirement already satisfied: absl-py>=0.7.0 in /usr/local/lib/python3.6/dist-packages (from tensorflow==2.1) (0.9.0)\n",
            "Requirement already satisfied: wrapt>=1.11.1 in /usr/local/lib/python3.6/dist-packages (from tensorflow==2.1) (1.11.2)\n",
            "Requirement already satisfied: opt-einsum>=2.3.2 in /usr/local/lib/python3.6/dist-packages (from tensorflow==2.1) (3.1.0)\n",
            "Requirement already satisfied: google-pasta>=0.1.6 in /usr/local/lib/python3.6/dist-packages (from tensorflow==2.1) (0.1.8)\n",
            "Requirement already satisfied: termcolor>=1.1.0 in /usr/local/lib/python3.6/dist-packages (from tensorflow==2.1) (1.1.0)\n",
            "Requirement already satisfied: google-auth<2,>=1.6.3 in /usr/local/lib/python3.6/dist-packages (from tensorboard<2.2.0,>=2.1.0->tensorflow==2.1) (1.7.2)\n",
            "Requirement already satisfied: markdown>=2.6.8 in /usr/local/lib/python3.6/dist-packages (from tensorboard<2.2.0,>=2.1.0->tensorflow==2.1) (3.2.1)\n",
            "Requirement already satisfied: requests<3,>=2.21.0 in /usr/local/lib/python3.6/dist-packages (from tensorboard<2.2.0,>=2.1.0->tensorflow==2.1) (2.21.0)\n",
            "Requirement already satisfied: google-auth-oauthlib<0.5,>=0.4.1 in /usr/local/lib/python3.6/dist-packages (from tensorboard<2.2.0,>=2.1.0->tensorflow==2.1) (0.4.1)\n",
            "Requirement already satisfied: werkzeug>=0.11.15 in /usr/local/lib/python3.6/dist-packages (from tensorboard<2.2.0,>=2.1.0->tensorflow==2.1) (1.0.0)\n",
            "Requirement already satisfied: setuptools>=41.0.0 in /usr/local/lib/python3.6/dist-packages (from tensorboard<2.2.0,>=2.1.0->tensorflow==2.1) (45.1.0)\n",
            "Requirement already satisfied: h5py in /usr/local/lib/python3.6/dist-packages (from keras-applications>=1.0.8->tensorflow==2.1) (2.8.0)\n",
            "Requirement already satisfied: rsa<4.1,>=3.1.4 in /usr/local/lib/python3.6/dist-packages (from google-auth<2,>=1.6.3->tensorboard<2.2.0,>=2.1.0->tensorflow==2.1) (4.0)\n",
            "Requirement already satisfied: cachetools<3.2,>=2.0.0 in /usr/local/lib/python3.6/dist-packages (from google-auth<2,>=1.6.3->tensorboard<2.2.0,>=2.1.0->tensorflow==2.1) (3.1.1)\n",
            "Requirement already satisfied: pyasn1-modules>=0.2.1 in /usr/local/lib/python3.6/dist-packages (from google-auth<2,>=1.6.3->tensorboard<2.2.0,>=2.1.0->tensorflow==2.1) (0.2.8)\n",
            "Requirement already satisfied: idna<2.9,>=2.5 in /usr/local/lib/python3.6/dist-packages (from requests<3,>=2.21.0->tensorboard<2.2.0,>=2.1.0->tensorflow==2.1) (2.8)\n",
            "Requirement already satisfied: certifi>=2017.4.17 in /usr/local/lib/python3.6/dist-packages (from requests<3,>=2.21.0->tensorboard<2.2.0,>=2.1.0->tensorflow==2.1) (2019.11.28)\n",
            "Requirement already satisfied: urllib3<1.25,>=1.21.1 in /usr/local/lib/python3.6/dist-packages (from requests<3,>=2.21.0->tensorboard<2.2.0,>=2.1.0->tensorflow==2.1) (1.24.3)\n",
            "Requirement already satisfied: chardet<3.1.0,>=3.0.2 in /usr/local/lib/python3.6/dist-packages (from requests<3,>=2.21.0->tensorboard<2.2.0,>=2.1.0->tensorflow==2.1) (3.0.4)\n",
            "Requirement already satisfied: requests-oauthlib>=0.7.0 in /usr/local/lib/python3.6/dist-packages (from google-auth-oauthlib<0.5,>=0.4.1->tensorboard<2.2.0,>=2.1.0->tensorflow==2.1) (1.3.0)\n",
            "Requirement already satisfied: pyasn1>=0.1.3 in /usr/local/lib/python3.6/dist-packages (from rsa<4.1,>=3.1.4->google-auth<2,>=1.6.3->tensorboard<2.2.0,>=2.1.0->tensorflow==2.1) (0.4.8)\n",
            "Requirement already satisfied: oauthlib>=3.0.0 in /usr/local/lib/python3.6/dist-packages (from requests-oauthlib>=0.7.0->google-auth-oauthlib<0.5,>=0.4.1->tensorboard<2.2.0,>=2.1.0->tensorflow==2.1) (3.1.0)\n",
            "Installing collected packages: tensorboard, tensorflow-estimator, tensorflow\n",
            "  Found existing installation: tensorboard 1.15.0\n",
            "    Uninstalling tensorboard-1.15.0:\n",
            "      Successfully uninstalled tensorboard-1.15.0\n",
            "  Found existing installation: tensorflow-estimator 1.15.1\n",
            "    Uninstalling tensorflow-estimator-1.15.1:\n",
            "      Successfully uninstalled tensorflow-estimator-1.15.1\n",
            "  Found existing installation: tensorflow 1.15.0\n",
            "    Uninstalling tensorflow-1.15.0:\n",
            "      Successfully uninstalled tensorflow-1.15.0\n",
            "Successfully installed tensorboard-2.1.0 tensorflow-2.1.0 tensorflow-estimator-2.1.0\n"
          ],
          "name": "stdout"
        }
      ]
    },
    {
      "cell_type": "code",
      "metadata": {
        "id": "uwUCso1grsNb",
        "colab_type": "code",
        "colab": {}
      },
      "source": [
        "# Fix random seed to allow reproducible experiments\n",
        "np.random.seed(1)\n",
        "tf.random.set_seed(1)"
      ],
      "execution_count": 0,
      "outputs": []
    },
    {
      "cell_type": "markdown",
      "metadata": {
        "id": "1bW3b0IDwprh",
        "colab_type": "text"
      },
      "source": [
        "# Load and inspect MNIST data"
      ]
    },
    {
      "cell_type": "code",
      "metadata": {
        "id": "SUDgJmq1wWo5",
        "colab_type": "code",
        "colab": {
          "base_uri": "https://localhost:8080/",
          "height": 51
        },
        "outputId": "c1495d5a-85b9-49cf-c7ad-03d9b0fd3b85"
      },
      "source": [
        "(x_train, y_train), (x_test, y_test) = mnist.load_data()\n"
      ],
      "execution_count": 3,
      "outputs": [
        {
          "output_type": "stream",
          "text": [
            "Downloading data from https://storage.googleapis.com/tensorflow/tf-keras-datasets/mnist.npz\n",
            "11493376/11490434 [==============================] - 0s 0us/step\n"
          ],
          "name": "stdout"
        }
      ]
    },
    {
      "cell_type": "code",
      "metadata": {
        "id": "KO4lBXrYwz5v",
        "colab_type": "code",
        "colab": {
          "base_uri": "https://localhost:8080/",
          "height": 85
        },
        "outputId": "1b1a8eda-9744-448d-f1de-bbe8a4d0ce2a"
      },
      "source": [
        "print(\"Shape X_train: \", x_train.shape)\n",
        "print(\"Shape y_train: \", y_train.shape)\n",
        "print(\"Shape X_test: \", x_test.shape)\n",
        "print(\"Shape y_test: \", y_test.shape)"
      ],
      "execution_count": 4,
      "outputs": [
        {
          "output_type": "stream",
          "text": [
            "Shape X_train:  (60000, 28, 28)\n",
            "Shape y_train:  (60000,)\n",
            "Shape X_test:  (10000, 28, 28)\n",
            "Shape y_test:  (10000,)\n"
          ],
          "name": "stdout"
        }
      ]
    },
    {
      "cell_type": "markdown",
      "metadata": {
        "id": "AhXc08Sl2PDh",
        "colab_type": "text"
      },
      "source": [
        "Values of one instance"
      ]
    },
    {
      "cell_type": "code",
      "metadata": {
        "id": "rT-OGTEG2Mxr",
        "colab_type": "code",
        "colab": {
          "base_uri": "https://localhost:8080/",
          "height": 986
        },
        "outputId": "d18e3cf5-34f7-42cd-a3dd-8327c044c0ae"
      },
      "source": [
        "print(\"y:\", y_train[0])\n",
        "print(\"x:\", x_train[0])"
      ],
      "execution_count": 5,
      "outputs": [
        {
          "output_type": "stream",
          "text": [
            "y: 5\n",
            "x: [[  0   0   0   0   0   0   0   0   0   0   0   0   0   0   0   0   0   0\n",
            "    0   0   0   0   0   0   0   0   0   0]\n",
            " [  0   0   0   0   0   0   0   0   0   0   0   0   0   0   0   0   0   0\n",
            "    0   0   0   0   0   0   0   0   0   0]\n",
            " [  0   0   0   0   0   0   0   0   0   0   0   0   0   0   0   0   0   0\n",
            "    0   0   0   0   0   0   0   0   0   0]\n",
            " [  0   0   0   0   0   0   0   0   0   0   0   0   0   0   0   0   0   0\n",
            "    0   0   0   0   0   0   0   0   0   0]\n",
            " [  0   0   0   0   0   0   0   0   0   0   0   0   0   0   0   0   0   0\n",
            "    0   0   0   0   0   0   0   0   0   0]\n",
            " [  0   0   0   0   0   0   0   0   0   0   0   0   3  18  18  18 126 136\n",
            "  175  26 166 255 247 127   0   0   0   0]\n",
            " [  0   0   0   0   0   0   0   0  30  36  94 154 170 253 253 253 253 253\n",
            "  225 172 253 242 195  64   0   0   0   0]\n",
            " [  0   0   0   0   0   0   0  49 238 253 253 253 253 253 253 253 253 251\n",
            "   93  82  82  56  39   0   0   0   0   0]\n",
            " [  0   0   0   0   0   0   0  18 219 253 253 253 253 253 198 182 247 241\n",
            "    0   0   0   0   0   0   0   0   0   0]\n",
            " [  0   0   0   0   0   0   0   0  80 156 107 253 253 205  11   0  43 154\n",
            "    0   0   0   0   0   0   0   0   0   0]\n",
            " [  0   0   0   0   0   0   0   0   0  14   1 154 253  90   0   0   0   0\n",
            "    0   0   0   0   0   0   0   0   0   0]\n",
            " [  0   0   0   0   0   0   0   0   0   0   0 139 253 190   2   0   0   0\n",
            "    0   0   0   0   0   0   0   0   0   0]\n",
            " [  0   0   0   0   0   0   0   0   0   0   0  11 190 253  70   0   0   0\n",
            "    0   0   0   0   0   0   0   0   0   0]\n",
            " [  0   0   0   0   0   0   0   0   0   0   0   0  35 241 225 160 108   1\n",
            "    0   0   0   0   0   0   0   0   0   0]\n",
            " [  0   0   0   0   0   0   0   0   0   0   0   0   0  81 240 253 253 119\n",
            "   25   0   0   0   0   0   0   0   0   0]\n",
            " [  0   0   0   0   0   0   0   0   0   0   0   0   0   0  45 186 253 253\n",
            "  150  27   0   0   0   0   0   0   0   0]\n",
            " [  0   0   0   0   0   0   0   0   0   0   0   0   0   0   0  16  93 252\n",
            "  253 187   0   0   0   0   0   0   0   0]\n",
            " [  0   0   0   0   0   0   0   0   0   0   0   0   0   0   0   0   0 249\n",
            "  253 249  64   0   0   0   0   0   0   0]\n",
            " [  0   0   0   0   0   0   0   0   0   0   0   0   0   0  46 130 183 253\n",
            "  253 207   2   0   0   0   0   0   0   0]\n",
            " [  0   0   0   0   0   0   0   0   0   0   0   0  39 148 229 253 253 253\n",
            "  250 182   0   0   0   0   0   0   0   0]\n",
            " [  0   0   0   0   0   0   0   0   0   0  24 114 221 253 253 253 253 201\n",
            "   78   0   0   0   0   0   0   0   0   0]\n",
            " [  0   0   0   0   0   0   0   0  23  66 213 253 253 253 253 198  81   2\n",
            "    0   0   0   0   0   0   0   0   0   0]\n",
            " [  0   0   0   0   0   0  18 171 219 253 253 253 253 195  80   9   0   0\n",
            "    0   0   0   0   0   0   0   0   0   0]\n",
            " [  0   0   0   0  55 172 226 253 253 253 253 244 133  11   0   0   0   0\n",
            "    0   0   0   0   0   0   0   0   0   0]\n",
            " [  0   0   0   0 136 253 253 253 212 135 132  16   0   0   0   0   0   0\n",
            "    0   0   0   0   0   0   0   0   0   0]\n",
            " [  0   0   0   0   0   0   0   0   0   0   0   0   0   0   0   0   0   0\n",
            "    0   0   0   0   0   0   0   0   0   0]\n",
            " [  0   0   0   0   0   0   0   0   0   0   0   0   0   0   0   0   0   0\n",
            "    0   0   0   0   0   0   0   0   0   0]\n",
            " [  0   0   0   0   0   0   0   0   0   0   0   0   0   0   0   0   0   0\n",
            "    0   0   0   0   0   0   0   0   0   0]]\n"
          ],
          "name": "stdout"
        }
      ]
    },
    {
      "cell_type": "markdown",
      "metadata": {
        "id": "LKYXkjCf17mv",
        "colab_type": "text"
      },
      "source": [
        "Visualize some examples"
      ]
    },
    {
      "cell_type": "code",
      "metadata": {
        "id": "_3BhFfAK1Vut",
        "colab_type": "code",
        "colab": {
          "base_uri": "https://localhost:8080/",
          "height": 113
        },
        "outputId": "76bee85d-9e39-4bc6-98e8-ae6868629145"
      },
      "source": [
        "plt.figure(figsize=(16,8))\n",
        "for i in range(10):\n",
        "    plt.subplot(1, 10, i+1)\n",
        "    plt.imshow(x_train[i])\n",
        "    plt.text(0, 0, y_train[i], color='black', bbox=dict(facecolor='white', alpha=1))\n",
        "    plt.axis('off')"
      ],
      "execution_count": 6,
      "outputs": [
        {
          "output_type": "display_data",
          "data": {
            "image/png": "[encoded data removed]",
            "text/plain": [
              "<Figure size 1152x576 with 10 Axes>"
            ]
          },
          "metadata": {
            "tags": []
          }
        }
      ]
    },
    {
      "cell_type": "markdown",
      "metadata": {
        "id": "QyHpaa2w2rz4",
        "colab_type": "text"
      },
      "source": [
        "Class frequency"
      ]
    },
    {
      "cell_type": "code",
      "metadata": {
        "id": "vug2cKN22s4S",
        "colab_type": "code",
        "colab": {
          "base_uri": "https://localhost:8080/",
          "height": 187
        },
        "outputId": "ed3780a1-b8c0-4e16-f831-f2d4f213e3ba"
      },
      "source": [
        "from collections import Counter\n",
        "Counter(y_train)"
      ],
      "execution_count": 7,
      "outputs": [
        {
          "output_type": "execute_result",
          "data": {
            "text/plain": [
              "Counter({0: 5923,\n",
              "         1: 6742,\n",
              "         2: 5958,\n",
              "         3: 6131,\n",
              "         4: 5842,\n",
              "         5: 5421,\n",
              "         6: 5918,\n",
              "         7: 6265,\n",
              "         8: 5851,\n",
              "         9: 5949})"
            ]
          },
          "metadata": {
            "tags": []
          },
          "execution_count": 7
        }
      ]
    },
    {
      "cell_type": "code",
      "metadata": {
        "id": "SCDEmRw96euB",
        "colab_type": "code",
        "colab": {}
      },
      "source": [
        "NUM_CLASSES = 10"
      ],
      "execution_count": 0,
      "outputs": []
    },
    {
      "cell_type": "markdown",
      "metadata": {
        "id": "x_gabl0Pz--h",
        "colab_type": "text"
      },
      "source": [
        "# Multi-Layer Perceptron"
      ]
    },
    {
      "cell_type": "markdown",
      "metadata": {
        "id": "HRAixEkP6E4i",
        "colab_type": "text"
      },
      "source": [
        "![texto alternativo](https://miro.medium.com/proxy/1*eloYEyFrblGHVZhU345PJw.jpeg)"
      ]
    },
    {
      "cell_type": "markdown",
      "metadata": {
        "id": "HVOjdkmVKdvY",
        "colab_type": "text"
      },
      "source": [
        "## Data preprocessing"
      ]
    },
    {
      "cell_type": "code",
      "metadata": {
        "id": "vPe1va6o3UaV",
        "colab_type": "code",
        "colab": {}
      },
      "source": [
        "# Convert matrices to vector (images are 28x28 pixels)\n",
        "X_train = x_train.reshape(60000, 784) # 28 * 28 = 784\n",
        "X_test = x_test.reshape(10000, 784)"
      ],
      "execution_count": 0,
      "outputs": []
    },
    {
      "cell_type": "code",
      "metadata": {
        "id": "4AaIdEBgyAil",
        "colab_type": "code",
        "colab": {}
      },
      "source": [
        "# Normalize data\n",
        "# Transform from range [0., 255. ] to range [0., 1.]\n",
        "X_train = X_train.astype('float32')\n",
        "X_test = X_test.astype('float32')\n",
        "X_train /= 255\n",
        "X_test /= 255"
      ],
      "execution_count": 0,
      "outputs": []
    },
    {
      "cell_type": "code",
      "metadata": {
        "id": "G-WlA48R4Kmr",
        "colab_type": "code",
        "colab": {
          "base_uri": "https://localhost:8080/",
          "height": 34
        },
        "outputId": "c07bad5f-e29e-46bc-a39a-1529c6a7ef23"
      },
      "source": [
        "# Transform y to one-hot enconding vectors\n",
        "from keras.utils import np_utils\n",
        "Y_train = keras.utils.to_categorical(y_train, NUM_CLASSES)\n",
        "Y_test = keras.utils.to_categorical(y_test, NUM_CLASSES)"
      ],
      "execution_count": 11,
      "outputs": [
        {
          "output_type": "stream",
          "text": [
            "Using TensorFlow backend.\n"
          ],
          "name": "stderr"
        }
      ]
    },
    {
      "cell_type": "code",
      "metadata": {
        "id": "l9dNarKr4ep7",
        "colab_type": "code",
        "colab": {
          "base_uri": "https://localhost:8080/",
          "height": 85
        },
        "outputId": "62f3b0d1-c6e6-4e30-dae2-22432fe5f9e8"
      },
      "source": [
        "# Show example of one-hot enconding vector\n",
        "print(\"Class of first example:\", y_train[0])\n",
        "print(\"One-hot enconding:\")\n",
        "print(list(range(NUM_CLASSES)))\n",
        "print(Y_train[0])"
      ],
      "execution_count": 12,
      "outputs": [
        {
          "output_type": "stream",
          "text": [
            "Class of first example: 5\n",
            "One-hot enconding:\n",
            "[0, 1, 2, 3, 4, 5, 6, 7, 8, 9]\n",
            "[0. 0. 0. 0. 0. 1. 0. 0. 0. 0.]\n"
          ],
          "name": "stdout"
        }
      ]
    },
    {
      "cell_type": "markdown",
      "metadata": {
        "id": "e6vgRAvR5aAg",
        "colab_type": "text"
      },
      "source": [
        "NOTE: One-hot encoding not strictly necessary, it depends on the selected loss function.\n",
        "\n",
        "If categorical_cross_entropy -> one-hot enconding\n",
        "\n",
        "If sparse_categorical_cross_entropy -> integer class"
      ]
    },
    {
      "cell_type": "markdown",
      "metadata": {
        "id": "Fk1e0G-eKgxg",
        "colab_type": "text"
      },
      "source": [
        "## Create model"
      ]
    },
    {
      "cell_type": "code",
      "metadata": {
        "id": "JbFvkq9Ax1nN",
        "colab_type": "code",
        "colab": {}
      },
      "source": [
        "# Create model with three dense layers\n",
        "inp = Input(shape=(784,)) # Input vector shape (28x28=784)\n",
        "x = Dense(64, activation='relu', use_bias=True)(inp)  \n",
        "x = Dense(128, activation='relu', use_bias=True)(x)\n",
        "x = Dense(NUM_CLASSES, activation='softmax')(x) # 10 output neurons, one associated to each digit. Softmax activation function\n",
        "\n",
        "model = keras.Model(inputs=inp, outputs=x)\n",
        "model.compile(loss='categorical_crossentropy', optimizer=keras.optimizers.SGD(learning_rate=0.01), \n",
        "              metrics=['accuracy'])\n"
      ],
      "execution_count": 0,
      "outputs": []
    },
    {
      "cell_type": "markdown",
      "metadata": {
        "id": "sa_DrFWjCdnn",
        "colab_type": "text"
      },
      "source": [
        "## Train model"
      ]
    },
    {
      "cell_type": "code",
      "metadata": {
        "id": "uYWTthYW7TRk",
        "colab_type": "code",
        "colab": {
          "base_uri": "https://localhost:8080/",
          "height": 714
        },
        "outputId": "7ec846b9-dc3d-4842-bb33-77e351dd2d36"
      },
      "source": [
        "history = model.fit(X_train, Y_train,\n",
        "          batch_size=64,\n",
        "          epochs=20,\n",
        "          verbose=1,\n",
        "          validation_data=(X_test, Y_test))"
      ],
      "execution_count": 14,
      "outputs": [
        {
          "output_type": "stream",
          "text": [
            "Train on 60000 samples, validate on 10000 samples\n",
            "Epoch 1/20\n",
            "60000/60000 [==============================] - 5s 75us/sample - loss: 0.9509 - accuracy: 0.7476 - val_loss: 0.4205 - val_accuracy: 0.8883\n",
            "Epoch 2/20\n",
            "60000/60000 [==============================] - 3s 47us/sample - loss: 0.3828 - accuracy: 0.8926 - val_loss: 0.3217 - val_accuracy: 0.9094\n",
            "Epoch 3/20\n",
            "60000/60000 [==============================] - 3s 46us/sample - loss: 0.3218 - accuracy: 0.9079 - val_loss: 0.2948 - val_accuracy: 0.9149\n",
            "Epoch 4/20\n",
            "60000/60000 [==============================] - 3s 45us/sample - loss: 0.2911 - accuracy: 0.9160 - val_loss: 0.2675 - val_accuracy: 0.9240\n",
            "Epoch 5/20\n",
            "60000/60000 [==============================] - 3s 45us/sample - loss: 0.2684 - accuracy: 0.9225 - val_loss: 0.2489 - val_accuracy: 0.9284\n",
            "Epoch 6/20\n",
            "60000/60000 [==============================] - 3s 45us/sample - loss: 0.2495 - accuracy: 0.9278 - val_loss: 0.2324 - val_accuracy: 0.9357\n",
            "Epoch 7/20\n",
            "60000/60000 [==============================] - 3s 45us/sample - loss: 0.2334 - accuracy: 0.9323 - val_loss: 0.2176 - val_accuracy: 0.9376\n",
            "Epoch 8/20\n",
            "60000/60000 [==============================] - 3s 47us/sample - loss: 0.2186 - accuracy: 0.9368 - val_loss: 0.2083 - val_accuracy: 0.9384\n",
            "Epoch 9/20\n",
            "60000/60000 [==============================] - 3s 45us/sample - loss: 0.2057 - accuracy: 0.9413 - val_loss: 0.1950 - val_accuracy: 0.9425\n",
            "Epoch 10/20\n",
            "60000/60000 [==============================] - 3s 44us/sample - loss: 0.1940 - accuracy: 0.9441 - val_loss: 0.1839 - val_accuracy: 0.9466\n",
            "Epoch 11/20\n",
            "60000/60000 [==============================] - 3s 47us/sample - loss: 0.1834 - accuracy: 0.9474 - val_loss: 0.1765 - val_accuracy: 0.9483\n",
            "Epoch 12/20\n",
            "60000/60000 [==============================] - 3s 45us/sample - loss: 0.1736 - accuracy: 0.9501 - val_loss: 0.1699 - val_accuracy: 0.9499\n",
            "Epoch 13/20\n",
            "60000/60000 [==============================] - 3s 45us/sample - loss: 0.1651 - accuracy: 0.9528 - val_loss: 0.1606 - val_accuracy: 0.9531\n",
            "Epoch 14/20\n",
            "60000/60000 [==============================] - 3s 46us/sample - loss: 0.1570 - accuracy: 0.9550 - val_loss: 0.1559 - val_accuracy: 0.9549\n",
            "Epoch 15/20\n",
            "60000/60000 [==============================] - 3s 45us/sample - loss: 0.1502 - accuracy: 0.9569 - val_loss: 0.1502 - val_accuracy: 0.9564\n",
            "Epoch 16/20\n",
            "60000/60000 [==============================] - 3s 46us/sample - loss: 0.1438 - accuracy: 0.9585 - val_loss: 0.1434 - val_accuracy: 0.9576\n",
            "Epoch 17/20\n",
            "60000/60000 [==============================] - 3s 46us/sample - loss: 0.1383 - accuracy: 0.9602 - val_loss: 0.1398 - val_accuracy: 0.9582\n",
            "Epoch 18/20\n",
            "60000/60000 [==============================] - 3s 44us/sample - loss: 0.1327 - accuracy: 0.9623 - val_loss: 0.1359 - val_accuracy: 0.9597\n",
            "Epoch 19/20\n",
            "60000/60000 [==============================] - 3s 44us/sample - loss: 0.1280 - accuracy: 0.9633 - val_loss: 0.1343 - val_accuracy: 0.9602\n",
            "Epoch 20/20\n",
            "60000/60000 [==============================] - 3s 44us/sample - loss: 0.1231 - accuracy: 0.9646 - val_loss: 0.1303 - val_accuracy: 0.9607\n"
          ],
          "name": "stdout"
        }
      ]
    },
    {
      "cell_type": "code",
      "metadata": {
        "id": "cRu1VM9OCsAd",
        "colab_type": "code",
        "colab": {
          "base_uri": "https://localhost:8080/",
          "height": 541
        },
        "outputId": "a9c74020-ce8d-43c2-fed0-7bbf3ef94407"
      },
      "source": [
        "## Visualize training stats \n",
        "\n",
        "plt.figure()\n",
        "plt.xlabel('Epochs')\n",
        "plt.ylabel('Loss')\n",
        "plt.plot(history.history['loss'])\n",
        "plt.plot(history.history['val_loss'])\n",
        "plt.legend(['Training', 'Validation'])\n",
        "\n",
        "plt.figure()\n",
        "plt.xlabel('Epochs')\n",
        "plt.ylabel('Accuracy')\n",
        "plt.plot(history.history['accuracy'])\n",
        "plt.plot(history.history['val_accuracy'])\n",
        "plt.legend(['Training', 'Validation'], loc='lower right')\n",
        "plt.show()"
      ],
      "execution_count": 15,
      "outputs": [
        {
          "output_type": "display_data",
          "data": {
            "image/png": "[encoded data removed]",
            "text/plain": [
              "<Figure size 432x288 with 1 Axes>"
            ]
          },
          "metadata": {
            "tags": []
          }
        },
        {
          "output_type": "display_data",
          "data": {
            "image/png": "[encoded data removed]",
            "text/plain": [
              "<Figure size 432x288 with 1 Axes>"
            ]
          },
          "metadata": {
            "tags": []
          }
        }
      ]
    },
    {
      "cell_type": "markdown",
      "metadata": {
        "id": "RVu1o_7iDXqj",
        "colab_type": "text"
      },
      "source": [
        "## Evaluate model\n"
      ]
    },
    {
      "cell_type": "code",
      "metadata": {
        "id": "eQss9b397Rns",
        "colab_type": "code",
        "colab": {
          "base_uri": "https://localhost:8080/",
          "height": 51
        },
        "outputId": "cfb63986-5e78-4308-f442-80d97991bf52"
      },
      "source": [
        "score = model.evaluate(X_test, Y_test, verbose=0)\n",
        "print('Test loss:', score[0])\n",
        "print('Test accuracy:', score[1])"
      ],
      "execution_count": 16,
      "outputs": [
        {
          "output_type": "stream",
          "text": [
            "Test loss: 0.1303067702718079\n",
            "Test accuracy: 0.9607\n"
          ],
          "name": "stdout"
        }
      ]
    },
    {
      "cell_type": "markdown",
      "metadata": {
        "id": "PYqB1j85ECjH",
        "colab_type": "text"
      },
      "source": [
        "### Visualize predictions"
      ]
    },
    {
      "cell_type": "code",
      "metadata": {
        "id": "LCOIAGNzEEwO",
        "colab_type": "code",
        "colab": {}
      },
      "source": [
        "predictions = model.predict(X_test)"
      ],
      "execution_count": 0,
      "outputs": []
    },
    {
      "cell_type": "code",
      "metadata": {
        "id": "lfzTLEYGEYr4",
        "colab_type": "code",
        "colab": {
          "base_uri": "https://localhost:8080/",
          "height": 68
        },
        "outputId": "27cf8470-589a-4a3b-b325-9bdcef8bb2b6"
      },
      "source": [
        "# Example of predictions for first image\n",
        "# Output is vector of size 10, one value for each digit. Maximum value is the predicted digit\n",
        "predictions[0]"
      ],
      "execution_count": 18,
      "outputs": [
        {
          "output_type": "execute_result",
          "data": {
            "text/plain": [
              "array([1.5569423e-05, 3.1117870e-07, 2.0158490e-04, 2.8442927e-03,\n",
              "       1.5543132e-07, 4.0675135e-05, 6.0582966e-10, 9.9680293e-01,\n",
              "       4.0006221e-06, 9.0454385e-05], dtype=float32)"
            ]
          },
          "metadata": {
            "tags": []
          },
          "execution_count": 18
        }
      ]
    },
    {
      "cell_type": "code",
      "metadata": {
        "id": "rVKWmxmqERfZ",
        "colab_type": "code",
        "colab": {
          "base_uri": "https://localhost:8080/",
          "height": 500
        },
        "outputId": "ac4280dd-4acf-439f-c8c6-f8c94de8eaa8"
      },
      "source": [
        "from sklearn.metrics import confusion_matrix\n",
        "import pandas as pd\n",
        "import seaborn as sns\n",
        "\n",
        "\n",
        "df = pd.DataFrame(confusion_matrix(np.argmax(Y_test,axis=1), np.argmax(predictions,axis=1)), columns=list(range(10)))\n",
        "plt.figure(figsize=(16,8))\n",
        "sns.heatmap(df, annot=True, fmt='g', cmap=\"Blues\")"
      ],
      "execution_count": 19,
      "outputs": [
        {
          "output_type": "execute_result",
          "data": {
            "text/plain": [
              "<matplotlib.axes._subplots.AxesSubplot at 0x7f3ada3b7198>"
            ]
          },
          "metadata": {
            "tags": []
          },
          "execution_count": 19
        },
        {
          "output_type": "display_data",
          "data": {
            "image/png": "[encoded data removed]",
            "text/plain": [
              "<Figure size 1152x576 with 2 Axes>"
            ]
          },
          "metadata": {
            "tags": []
          }
        }
      ]
    },
    {
      "cell_type": "code",
      "metadata": {
        "id": "rb_VEIwGGVIW",
        "colab_type": "code",
        "colab": {
          "base_uri": "https://localhost:8080/",
          "height": 113
        },
        "outputId": "a30b6254-c94d-4f6e-ce7f-c6d66fc1cbeb"
      },
      "source": [
        "## Visualize some wrong predictions \n",
        "integer_predictions = np.argmax(predictions,axis=1)\n",
        "integer_labels = np.argmax(Y_test,axis=1)\n",
        "wrong_predictions_indices = np.where( integer_predictions !=  integer_labels)[0]\n",
        "plt.figure(figsize=(16,8))\n",
        "for i in range(10):\n",
        "    index = wrong_predictions_indices[i]\n",
        "    plt.subplot(1, 10, i+1)\n",
        "    plt.imshow(x_test[index])\n",
        "    plt.text(0, 0, integer_predictions[index], color='black', bbox=dict(facecolor='white', alpha=1))\n",
        "    plt.axis('off')"
      ],
      "execution_count": 20,
      "outputs": [
        {
          "output_type": "display_data",
          "data": {
            "image/png": "[encoded data removed]",
            "text/plain": [
              "<Figure size 1152x576 with 10 Axes>"
            ]
          },
          "metadata": {
            "tags": []
          }
        }
      ]
    },
    {
      "cell_type": "markdown",
      "metadata": {
        "id": "I7X7_bKjDcuI",
        "colab_type": "text"
      },
      "source": [
        "### MLP with Dropout\n",
        "\n"
      ]
    },
    {
      "cell_type": "code",
      "metadata": {
        "id": "i4cz0RJ_DiBf",
        "colab_type": "code",
        "colab": {
          "base_uri": "https://localhost:8080/",
          "height": 714
        },
        "outputId": "d8a35545-ddf1-45bf-b7db-ff5c016702e6"
      },
      "source": [
        "inp = Input(shape=(784,))\n",
        "x = Dense(64, activation='relu', use_bias=True)(inp)  \n",
        "x = Dropout(0.2)(x)\n",
        "x = Dense(128, activation='relu', use_bias=True)(x)\n",
        "x = Dropout(0.2)(x)\n",
        "x = Dense(NUM_CLASSES, activation='softmax')(x) # 10 output neurons, one associated to each digit. Softmax activation function\n",
        "\n",
        "model = keras.Model(inputs=inp, outputs=x)\n",
        "\n",
        "model.compile(loss='categorical_crossentropy', optimizer=keras.optimizers.SGD(learning_rate=0.01), \n",
        "              metrics=['accuracy'])\n",
        "\n",
        "history = model.fit(X_train, Y_train,\n",
        "          batch_size=64,\n",
        "          epochs=20,\n",
        "          verbose=1,\n",
        "          validation_data=(X_test, Y_test))"
      ],
      "execution_count": 21,
      "outputs": [
        {
          "output_type": "stream",
          "text": [
            "Train on 60000 samples, validate on 10000 samples\n",
            "Epoch 1/20\n",
            "60000/60000 [==============================] - 3s 54us/sample - loss: 1.2557 - accuracy: 0.6151 - val_loss: 0.5237 - val_accuracy: 0.8683\n",
            "Epoch 2/20\n",
            "60000/60000 [==============================] - 3s 50us/sample - loss: 0.6010 - accuracy: 0.8193 - val_loss: 0.3681 - val_accuracy: 0.8995\n",
            "Epoch 3/20\n",
            "60000/60000 [==============================] - 3s 50us/sample - loss: 0.4753 - accuracy: 0.8599 - val_loss: 0.3146 - val_accuracy: 0.9113\n",
            "Epoch 4/20\n",
            "60000/60000 [==============================] - 3s 48us/sample - loss: 0.4140 - accuracy: 0.8783 - val_loss: 0.2813 - val_accuracy: 0.9171\n",
            "Epoch 5/20\n",
            "60000/60000 [==============================] - 3s 49us/sample - loss: 0.3740 - accuracy: 0.8902 - val_loss: 0.2536 - val_accuracy: 0.9262\n",
            "Epoch 6/20\n",
            "60000/60000 [==============================] - 3s 48us/sample - loss: 0.3463 - accuracy: 0.8987 - val_loss: 0.2366 - val_accuracy: 0.9313\n",
            "Epoch 7/20\n",
            "60000/60000 [==============================] - 3s 47us/sample - loss: 0.3227 - accuracy: 0.9040 - val_loss: 0.2200 - val_accuracy: 0.9349\n",
            "Epoch 8/20\n",
            "60000/60000 [==============================] - 3s 49us/sample - loss: 0.3043 - accuracy: 0.9111 - val_loss: 0.2067 - val_accuracy: 0.9392\n",
            "Epoch 9/20\n",
            "60000/60000 [==============================] - 3s 47us/sample - loss: 0.2882 - accuracy: 0.9161 - val_loss: 0.1945 - val_accuracy: 0.9444\n",
            "Epoch 10/20\n",
            "60000/60000 [==============================] - 3s 48us/sample - loss: 0.2712 - accuracy: 0.9206 - val_loss: 0.1844 - val_accuracy: 0.9467\n",
            "Epoch 11/20\n",
            "60000/60000 [==============================] - 3s 48us/sample - loss: 0.2635 - accuracy: 0.9221 - val_loss: 0.1756 - val_accuracy: 0.9471\n",
            "Epoch 12/20\n",
            "60000/60000 [==============================] - 3s 48us/sample - loss: 0.2494 - accuracy: 0.9270 - val_loss: 0.1681 - val_accuracy: 0.9493\n",
            "Epoch 13/20\n",
            "60000/60000 [==============================] - 3s 47us/sample - loss: 0.2416 - accuracy: 0.9291 - val_loss: 0.1616 - val_accuracy: 0.9512\n",
            "Epoch 14/20\n",
            "60000/60000 [==============================] - 3s 47us/sample - loss: 0.2321 - accuracy: 0.9323 - val_loss: 0.1569 - val_accuracy: 0.9524\n",
            "Epoch 15/20\n",
            "60000/60000 [==============================] - 3s 48us/sample - loss: 0.2242 - accuracy: 0.9339 - val_loss: 0.1511 - val_accuracy: 0.9555\n",
            "Epoch 16/20\n",
            "60000/60000 [==============================] - 3s 48us/sample - loss: 0.2170 - accuracy: 0.9356 - val_loss: 0.1458 - val_accuracy: 0.9554\n",
            "Epoch 17/20\n",
            "60000/60000 [==============================] - 3s 46us/sample - loss: 0.2081 - accuracy: 0.9391 - val_loss: 0.1430 - val_accuracy: 0.9569\n",
            "Epoch 18/20\n",
            "60000/60000 [==============================] - 3s 46us/sample - loss: 0.2041 - accuracy: 0.9397 - val_loss: 0.1380 - val_accuracy: 0.9579\n",
            "Epoch 19/20\n",
            "60000/60000 [==============================] - 3s 46us/sample - loss: 0.1990 - accuracy: 0.9407 - val_loss: 0.1343 - val_accuracy: 0.9582\n",
            "Epoch 20/20\n",
            "60000/60000 [==============================] - 3s 46us/sample - loss: 0.1945 - accuracy: 0.9433 - val_loss: 0.1322 - val_accuracy: 0.9602\n"
          ],
          "name": "stdout"
        }
      ]
    },
    {
      "cell_type": "markdown",
      "metadata": {
        "id": "pO0Uk3w7FUK5",
        "colab_type": "text"
      },
      "source": [
        "### How to improve results?\n",
        "\n",
        "*   Adjust parameters in dense layers (number of neurons, activation function)\n",
        "*   Add more dense layers\n",
        "*   Dropout\n",
        "*   Change optimizer: SGD, Adam, Adagrad, RMSProp\n",
        "*   Change architecture: CNN, LSTM\n",
        "\n",
        "\n",
        "\n"
      ]
    },
    {
      "cell_type": "markdown",
      "metadata": {
        "id": "Fjqz9rm7IxTx",
        "colab_type": "text"
      },
      "source": [
        "# Convolutional Neural Network"
      ]
    },
    {
      "cell_type": "markdown",
      "metadata": {
        "id": "MyETV28KKWl0",
        "colab_type": "text"
      },
      "source": [
        "![texto alternativo](https://miro.medium.com/max/3744/1*SGPGG7oeSvVlV5sOSQ2iZw.png)"
      ]
    },
    {
      "cell_type": "markdown",
      "metadata": {
        "id": "8X56XJ0mLMSq",
        "colab_type": "text"
      },
      "source": [
        "## Preprocessing"
      ]
    },
    {
      "cell_type": "code",
      "metadata": {
        "id": "C_jw7yajI0-D",
        "colab_type": "code",
        "colab": {}
      },
      "source": [
        "(X_train, y_train), (X_test, y_test) = mnist.load_data()\n",
        "\n",
        "# Input shape now is 3-dimensional (num_examples, 28, 28, 1). We need to reshape to indicate number of channels\n",
        "X_train = x_train.reshape(x_train.shape[0], 28, 28, 1)\n",
        "X_test = x_test.reshape(x_test.shape[0], 28, 28, 1)\n",
        "input_shape = (28, 28, 1)\n",
        "\n",
        "# Normalization\n",
        "X_train = X_train.astype('float32')\n",
        "X_test = X_test.astype('float32')\n",
        "X_train /= 255\n",
        "X_test /= 255\n",
        "\n",
        "# One-hot encoding\n",
        "Y_train = keras.utils.to_categorical(y_train, 10)\n",
        "Y_test = keras.utils.to_categorical(y_test, 10)"
      ],
      "execution_count": 0,
      "outputs": []
    },
    {
      "cell_type": "markdown",
      "metadata": {
        "id": "PomOaB7ZLOCn",
        "colab_type": "text"
      },
      "source": [
        "## Create CNN model"
      ]
    },
    {
      "cell_type": "code",
      "metadata": {
        "id": "ME6E98q3LSp9",
        "colab_type": "code",
        "colab": {
          "base_uri": "https://localhost:8080/",
          "height": 289
        },
        "outputId": "6688615f-46f9-4bee-fdf1-0b5cdee96f09"
      },
      "source": [
        "# Conv2D with con 32 convolutional filters with kernel size 3x3\n",
        "inp = Input(shape=input_shape)\n",
        "x = Conv2D(32, (3, 3), padding='same', activation='relu')(inp)\n",
        "x = Flatten()(x)    # Convert from matrices to vector before Fully Connected Layers\n",
        "x = Dense(NUM_CLASSES, activation='softmax')(x)\n",
        "\n",
        "model = keras.Model(inputs=inp, outputs=x)\n",
        "\n",
        "model.compile(loss='categorical_crossentropy',\n",
        "              optimizer=keras.optimizers.SGD(learning_rate=0.01),\n",
        "              metrics=['accuracy'])\n",
        "\n",
        "# Print model architecture\n",
        "model.summary()"
      ],
      "execution_count": 25,
      "outputs": [
        {
          "output_type": "stream",
          "text": [
            "Model: \"model_2\"\n",
            "_________________________________________________________________\n",
            "Layer (type)                 Output Shape              Param #   \n",
            "=================================================================\n",
            "input_4 (InputLayer)         [(None, 28, 28, 1)]       0         \n",
            "_________________________________________________________________\n",
            "conv2d_1 (Conv2D)            (None, 28, 28, 32)        320       \n",
            "_________________________________________________________________\n",
            "flatten_1 (Flatten)          (None, 25088)             0         \n",
            "_________________________________________________________________\n",
            "dense_6 (Dense)              (None, 10)                250890    \n",
            "=================================================================\n",
            "Total params: 251,210\n",
            "Trainable params: 251,210\n",
            "Non-trainable params: 0\n",
            "_________________________________________________________________\n"
          ],
          "name": "stdout"
        }
      ]
    },
    {
      "cell_type": "markdown",
      "metadata": {
        "id": "UdZrD4fdqrO1",
        "colab_type": "text"
      },
      "source": [
        "## Train CNN"
      ]
    },
    {
      "cell_type": "code",
      "metadata": {
        "id": "GGHFKTpxL0tE",
        "colab_type": "code",
        "colab": {
          "base_uri": "https://localhost:8080/",
          "height": 714
        },
        "outputId": "853106d9-e00d-4030-a7dd-f197d97831db"
      },
      "source": [
        "hist = model.fit(X_train, Y_train, batch_size=64, \n",
        "                 epochs=20, verbose=1, \n",
        "                 validation_data=(X_test, Y_test))"
      ],
      "execution_count": 26,
      "outputs": [
        {
          "output_type": "stream",
          "text": [
            "Train on 60000 samples, validate on 10000 samples\n",
            "Epoch 1/20\n",
            "60000/60000 [==============================] - 8s 128us/sample - loss: 0.5212 - accuracy: 0.8669 - val_loss: 0.3099 - val_accuracy: 0.9148\n",
            "Epoch 2/20\n",
            "60000/60000 [==============================] - 3s 50us/sample - loss: 0.3167 - accuracy: 0.9094 - val_loss: 0.2875 - val_accuracy: 0.9187\n",
            "Epoch 3/20\n",
            "60000/60000 [==============================] - 3s 50us/sample - loss: 0.2945 - accuracy: 0.9155 - val_loss: 0.2854 - val_accuracy: 0.9165\n",
            "Epoch 4/20\n",
            "60000/60000 [==============================] - 3s 50us/sample - loss: 0.2805 - accuracy: 0.9202 - val_loss: 0.2658 - val_accuracy: 0.9240\n",
            "Epoch 5/20\n",
            "60000/60000 [==============================] - 3s 51us/sample - loss: 0.2663 - accuracy: 0.9251 - val_loss: 0.2488 - val_accuracy: 0.9290\n",
            "Epoch 6/20\n",
            "60000/60000 [==============================] - 3s 51us/sample - loss: 0.2512 - accuracy: 0.9297 - val_loss: 0.2423 - val_accuracy: 0.9303\n",
            "Epoch 7/20\n",
            "60000/60000 [==============================] - 3s 50us/sample - loss: 0.2355 - accuracy: 0.9345 - val_loss: 0.2195 - val_accuracy: 0.9370\n",
            "Epoch 8/20\n",
            "60000/60000 [==============================] - 3s 50us/sample - loss: 0.2181 - accuracy: 0.9394 - val_loss: 0.2026 - val_accuracy: 0.9432\n",
            "Epoch 9/20\n",
            "60000/60000 [==============================] - 3s 50us/sample - loss: 0.2015 - accuracy: 0.9444 - val_loss: 0.1878 - val_accuracy: 0.9487\n",
            "Epoch 10/20\n",
            "60000/60000 [==============================] - 3s 49us/sample - loss: 0.1854 - accuracy: 0.9488 - val_loss: 0.1734 - val_accuracy: 0.9532\n",
            "Epoch 11/20\n",
            "60000/60000 [==============================] - 3s 50us/sample - loss: 0.1704 - accuracy: 0.9536 - val_loss: 0.1599 - val_accuracy: 0.9565\n",
            "Epoch 12/20\n",
            "60000/60000 [==============================] - 3s 49us/sample - loss: 0.1569 - accuracy: 0.9574 - val_loss: 0.1506 - val_accuracy: 0.9597\n",
            "Epoch 13/20\n",
            "60000/60000 [==============================] - 3s 50us/sample - loss: 0.1452 - accuracy: 0.9606 - val_loss: 0.1370 - val_accuracy: 0.9635\n",
            "Epoch 14/20\n",
            "60000/60000 [==============================] - 3s 51us/sample - loss: 0.1344 - accuracy: 0.9642 - val_loss: 0.1317 - val_accuracy: 0.9633\n",
            "Epoch 15/20\n",
            "60000/60000 [==============================] - 3s 50us/sample - loss: 0.1258 - accuracy: 0.9666 - val_loss: 0.1240 - val_accuracy: 0.9658\n",
            "Epoch 16/20\n",
            "60000/60000 [==============================] - 3s 50us/sample - loss: 0.1183 - accuracy: 0.9689 - val_loss: 0.1135 - val_accuracy: 0.9682\n",
            "Epoch 17/20\n",
            "60000/60000 [==============================] - 3s 49us/sample - loss: 0.1118 - accuracy: 0.9698 - val_loss: 0.1104 - val_accuracy: 0.9683\n",
            "Epoch 18/20\n",
            "60000/60000 [==============================] - 3s 49us/sample - loss: 0.1059 - accuracy: 0.9717 - val_loss: 0.1057 - val_accuracy: 0.9699\n",
            "Epoch 19/20\n",
            "60000/60000 [==============================] - 3s 51us/sample - loss: 0.1006 - accuracy: 0.9737 - val_loss: 0.1029 - val_accuracy: 0.9724\n",
            "Epoch 20/20\n",
            "60000/60000 [==============================] - 3s 50us/sample - loss: 0.0962 - accuracy: 0.9742 - val_loss: 0.0965 - val_accuracy: 0.9722\n"
          ],
          "name": "stdout"
        }
      ]
    },
    {
      "cell_type": "code",
      "metadata": {
        "id": "qIdwTc6ZMNSJ",
        "colab_type": "code",
        "colab": {
          "base_uri": "https://localhost:8080/",
          "height": 541
        },
        "outputId": "82b0ab29-4972-4b90-afd0-c78ab069f54b"
      },
      "source": [
        "## Visualize training stats \n",
        "plt.figure()\n",
        "plt.xlabel('Epochs')\n",
        "plt.ylabel('Loss')\n",
        "plt.plot(history.history['loss'])\n",
        "plt.plot(history.history['val_loss'])\n",
        "plt.legend(['Training', 'Validation'])\n",
        "\n",
        "plt.figure()\n",
        "plt.xlabel('Epochs')\n",
        "plt.ylabel('Accuracy')\n",
        "plt.plot(history.history['accuracy'])\n",
        "plt.plot(history.history['val_accuracy'])\n",
        "plt.legend(['Training', 'Validation'], loc='lower right')\n",
        "plt.show()"
      ],
      "execution_count": 27,
      "outputs": [
        {
          "output_type": "display_data",
          "data": {
            "image/png": "[encoded data removed]",
            "text/plain": [
              "<Figure size 432x288 with 1 Axes>"
            ]
          },
          "metadata": {
            "tags": []
          }
        },
        {
          "output_type": "display_data",
          "data": {
            "image/png": "[encoded data removed]",
            "text/plain": [
              "<Figure size 432x288 with 1 Axes>"
            ]
          },
          "metadata": {
            "tags": []
          }
        }
      ]
    },
    {
      "cell_type": "markdown",
      "metadata": {
        "id": "DfvtkW6yL9F2",
        "colab_type": "text"
      },
      "source": [
        "## Evaluate model"
      ]
    },
    {
      "cell_type": "code",
      "metadata": {
        "id": "RwhxJRNiL8ZX",
        "colab_type": "code",
        "colab": {
          "base_uri": "https://localhost:8080/",
          "height": 51
        },
        "outputId": "2b149c2f-c78f-474a-fef5-e286deb85be4"
      },
      "source": [
        "score = model.evaluate(X_test, Y_test, verbose=0)\n",
        "print('Test loss:', score[0])\n",
        "print('Test accuracy:', score[1])"
      ],
      "execution_count": 28,
      "outputs": [
        {
          "output_type": "stream",
          "text": [
            "Test loss: 0.09645904383100569\n",
            "Test accuracy: 0.9722\n"
          ],
          "name": "stdout"
        }
      ]
    },
    {
      "cell_type": "markdown",
      "metadata": {
        "id": "OMr3Tm4OL-6P",
        "colab_type": "text"
      },
      "source": [
        "## Visualize predictions"
      ]
    },
    {
      "cell_type": "code",
      "metadata": {
        "id": "d2A4tJKvMBZQ",
        "colab_type": "code",
        "colab": {}
      },
      "source": [
        "predictions = model.predict(X_test)"
      ],
      "execution_count": 0,
      "outputs": []
    },
    {
      "cell_type": "code",
      "metadata": {
        "id": "St5c0bmZMFV7",
        "colab_type": "code",
        "colab": {
          "base_uri": "https://localhost:8080/",
          "height": 113
        },
        "outputId": "ef8bea07-1220-49b6-fd62-54f056dd3661"
      },
      "source": [
        "## Visualize some wrong predictions \n",
        "integer_predictions = np.argmax(predictions,axis=1)\n",
        "integer_labels = np.argmax(Y_test,axis=1)\n",
        "wrong_predictions_indices = np.where( integer_predictions !=  integer_labels)[0]\n",
        "plt.figure(figsize=(16,8))\n",
        "for i in range(10):\n",
        "    index = wrong_predictions_indices[i]\n",
        "    plt.subplot(1, 10, i+1)\n",
        "    plt.imshow(x_test[index])\n",
        "    plt.text(0, 0, integer_predictions[index], color='black', bbox=dict(facecolor='white', alpha=1))\n",
        "    plt.axis('off')"
      ],
      "execution_count": 30,
      "outputs": [
        {
          "output_type": "display_data",
          "data": {
            "image/png": "[encoded data removed]",
            "text/plain": [
              "<Figure size 1152x576 with 10 Axes>"
            ]
          },
          "metadata": {
            "tags": []
          }
        }
      ]
    },
    {
      "cell_type": "markdown",
      "metadata": {
        "id": "Cy2OhUUCo2PT",
        "colab_type": "text"
      },
      "source": [
        "## Exercise: Create CNN model with the following characteristics\n",
        "\n",
        "2 convolution+pooling blocks with increasing number of filters and relu activation function\n",
        "\n",
        "Dropout after convolution\n",
        "\n",
        "Fully connected block at the end\n",
        "\n",
        "Change optimizer (search in Keras docs for available optimizers)\n",
        "\n",
        "\n",
        "\n",
        "\n"
      ]
    },
    {
      "cell_type": "code",
      "metadata": {
        "id": "B3puKrzEo2pS",
        "colab_type": "code",
        "colab": {}
      },
      "source": [
        "# inp =\n",
        "# x = \n",
        "\n",
        "# model = keras.Model(...)\n",
        "\n",
        "\n",
        "# model.compile(...)\n",
        "\n",
        "\n",
        "        \n",
        "#  hist = model.fit(X_train, Y_train, batch_size=64, \n",
        "#                  epochs=5, verbose=1, \n",
        "#                  validation_data=(X_test, Y_test))"
      ],
      "execution_count": 0,
      "outputs": []
    }
  ]
}