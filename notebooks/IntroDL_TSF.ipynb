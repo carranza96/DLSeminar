{
  "nbformat": 4,
  "nbformat_minor": 0,
  "metadata": {
    "colab": {
      "name": "IntroDL_TSF",
      "provenance": [],
      "collapsed_sections": [],
      "toc_visible": true,
      "authorship_tag": "ABX9TyOb8ENgGlTjbxrwK2vVIeI3",
      "include_colab_link": true
    },
    "kernelspec": {
      "name": "python3",
      "display_name": "Python 3"
    }
  },
  "cells": [
    {
      "cell_type": "markdown",
      "metadata": {
        "id": "view-in-github",
        "colab_type": "text"
      },
      "source": [
        "<a href=\"https://colab.research.google.com/github/carranza96/DLSeminar/blob/TSF/notebooks/IntroDL_TSF.ipynb\" target=\"_parent\"><img src=\"https://colab.research.google.com/assets/colab-badge.svg\" alt=\"Open In Colab\"/></a>"
      ]
    },
    {
      "cell_type": "code",
      "metadata": {
        "id": "1mpPvqZB5ItB",
        "colab_type": "code",
        "colab": {}
      },
      "source": [
        "%pip install tensorflow==2.1\n",
        "import tensorflow as tf\n",
        "import tensorflow.keras as keras\n",
        "from tensorflow.keras.datasets import mnist\n",
        "from tensorflow.keras.models import Sequential\n",
        "from tensorflow.keras.layers import Dense, Dropout, Flatten, Conv2D, MaxPool2D\n",
        "from tensorflow.keras import backend as K\n",
        "import numpy as np\n",
        "import matplotlib.pyplot as plt\n",
        "import matplotlib.ticker as ticker"
      ],
      "execution_count": 0,
      "outputs": []
    },
    {
      "cell_type": "code",
      "metadata": {
        "id": "WIXHuKXaTCBp",
        "colab_type": "code",
        "colab": {}
      },
      "source": [
        "# Fix random seed to allow reproducible experiments\n",
        "np.random.seed(1)\n",
        "tf.random.set_seed(1)"
      ],
      "execution_count": 0,
      "outputs": []
    },
    {
      "cell_type": "markdown",
      "metadata": {
        "id": "lncB6eMg5MXb",
        "colab_type": "text"
      },
      "source": [
        "# Load and inspect Cryptocurrency market data"
      ]
    },
    {
      "cell_type": "code",
      "metadata": {
        "id": "RAMSpIoj42vl",
        "colab_type": "code",
        "colab": {}
      },
      "source": [
        "# Read training set\n",
        "train_filename = 'data/train.csv'\n",
        "with open(train_filename, 'r') as datafile:\n",
        "  ts_list_train = datafile.readlines()\n",
        "  ts_list_train = np.asarray([np.asarray(l.rstrip().split(','), dtype=np.float32) for l in ts_list_train])\n",
        "\n",
        "# Read test set\n",
        "test_filename = 'data/train.csv'\n",
        "with open(test_filename, 'r') as datafile:\n",
        "  ts_list_test = datafile.readlines()\n",
        "  ts_list_test = np.asarray([np.asarray(l.rstrip().split(','), dtype=np.float32) for l in ts_list_test])"
      ],
      "execution_count": 0,
      "outputs": []
    },
    {
      "cell_type": "code",
      "metadata": {
        "id": "FXyvIHRd62tj",
        "colab_type": "code",
        "colab": {}
      },
      "source": [
        "headers = ['BTC', 'ETH', 'XRP', 'LTC']\n",
        "most_recent_measure = datetime.datetime(2020, 2, 5, 1,0)\n",
        "colors = plt.get_cmap('Set2', 4)"
      ],
      "execution_count": 0,
      "outputs": []
    },
    {
      "cell_type": "code",
      "metadata": {
        "id": "XnUUAs9iNvUL",
        "colab_type": "code",
        "colab": {}
      },
      "source": [
        "colors(4)"
      ],
      "execution_count": 0,
      "outputs": []
    },
    {
      "cell_type": "code",
      "metadata": {
        "id": "hALs9_0e7KCl",
        "colab_type": "code",
        "colab": {}
      },
      "source": [
        "print(\"Length of {0} time serie: {1} hours. From {2} to {3}.\".format(headers[0], ts_list_train[0].shape[0], most_recent_measure - datetime.timedelta(hours=ts_list_train[0].shape[0]-1), most_recent_measure))\n",
        "print(\"Length of {0} time serie: {1} hours. From {2} to {3}.\".format(headers[1], ts_list_train[1].shape[0], most_recent_measure - datetime.timedelta(hours=ts_list_train[1].shape[0]-1), most_recent_measure))\n",
        "print(\"Length of {0} time serie: {1} hours. From {2} to {3}.\".format(headers[2], ts_list_train[2].shape[0], most_recent_measure - datetime.timedelta(hours=ts_list_train[2].shape[0]-1), most_recent_measure))\n",
        "print(\"Length of {0} time serie: {1} hours. From {2} to {3}.\".format(headers[3], ts_list_train[3].shape[0], most_recent_measure - datetime.timedelta(hours=ts_list_train[3].shape[0]-1), most_recent_measure))\n",
        "\n",
        "print(\"\\nForecasting horizon: {0} hours.\".format(ts_list_test[0].shape[0]))"
      ],
      "execution_count": 0,
      "outputs": []
    },
    {
      "cell_type": "code",
      "metadata": {
        "id": "1qE3PHB59_Lp",
        "colab_type": "code",
        "colab": {}
      },
      "source": [
        "# Lets see how the price have evolved over time\n",
        "fig, ax = plt.subplots(nrows=1, ncols=1, figsize=(15,6))\n",
        "ax.yaxis.set_major_formatter(ticker.FormatStrFormatter('$%1.2f'))\n",
        "\n",
        "x = [most_recent_measure - datetime.timedelta(hours=i-1, minutes=0) for i  in range(ts_list_train[0].shape[0], 0, -1)]\n",
        "ax.plot(x, ts_list_train[0], label=headers[0], c=colors(0))\n",
        "\n",
        "x = [most_recent_measure - datetime.timedelta(hours=i-1, minutes=0) for i  in range(ts_list_train[1].shape[0], 0, -1)]\n",
        "ax.plot(x, ts_list_train[1], label=headers[1], c=colors(1))\n",
        "\n",
        "x = [most_recent_measure - datetime.timedelta(hours=i-1, minutes=0) for i  in range(ts_list_train[2].shape[0], 0, -1)]\n",
        "ax.plot(x, ts_list_train[2], label=headers[2], c=colors(2))\n",
        "\n",
        "x = [most_recent_measure - datetime.timedelta(hours=i-1, minutes=0) for i  in range(ts_list_train[3].shape[0], 0, -1)]\n",
        "ax.plot(x, ts_list_train[3], label=headers[3], c=colors(3))\n",
        "\n",
        "ax.legend()\n",
        "ax.set_title('CRYPTOCURRENCIES')\n",
        "plt.show()\n"
      ],
      "execution_count": 0,
      "outputs": []
    },
    {
      "cell_type": "code",
      "metadata": {
        "id": "kNnz29QrAT_z",
        "colab_type": "code",
        "colab": {}
      },
      "source": [
        "# Lets see how the price of these cryptocoins have evolved over time\n",
        "fig, ax = plt.subplots(nrows=2, ncols=2, figsize=(15,8), sharex=True)\n",
        "\n",
        "x = [most_recent_measure - datetime.timedelta(hours=i-1, minutes=0) for i  in range(ts_list_train[0].shape[0], 0, -1)]\n",
        "ax[0][0].plot(x, ts_list_train[0], label=headers[0], c=colors(0))\n",
        "ax[0][0].set_title(headers[1])\n",
        "ax[0][0].yaxis.set_major_formatter(ticker.FormatStrFormatter('$%1.2f'))\n",
        "ax[0][0].xaxis.set_major_locator(plt.MaxNLocator(5))\n",
        "\n",
        "x = [most_recent_measure - datetime.timedelta(hours=i-1, minutes=0) for i  in range(ts_list_train[1].shape[0], 0, -1)]\n",
        "ax[0][1].plot(x, ts_list_train[1], label=headers[1], c=colors(1))\n",
        "ax[0][1].set_title(headers[1])\n",
        "ax[0][1].yaxis.set_major_formatter(ticker.FormatStrFormatter('$%1.2f'))\n",
        "ax[0][1].xaxis.set_major_locator(plt.MaxNLocator(5))\n",
        "\n",
        "x = [most_recent_measure - datetime.timedelta(hours=i-1, minutes=0) for i  in range(ts_list_train[2].shape[0], 0, -1)]\n",
        "ax[1][0].plot(x, ts_list_train[2], label=headers[2], c=colors(2))\n",
        "ax[1][0].set_title(headers[1])\n",
        "ax[1][0].yaxis.set_major_formatter(ticker.FormatStrFormatter('$%1.2f'))\n",
        "ax[1][0].xaxis.set_major_locator(plt.MaxNLocator(5))\n",
        "\n",
        "x = [most_recent_measure - datetime.timedelta(hours=i-1, minutes=0) for i  in range(ts_list_train[3].shape[0], 0, -1)]\n",
        "ax[1][1].plot(x, ts_list_train[3], label=headers[3], c=colors(3))\n",
        "ax[1][1].set_title(headers[1])\n",
        "ax[1][1].yaxis.set_major_formatter(ticker.FormatStrFormatter('$%1.2f'))\n",
        "ax[1][1].xaxis.set_major_locator(plt.MaxNLocator(5))\n",
        "\n",
        "\n",
        "plt.show()"
      ],
      "execution_count": 0,
      "outputs": []
    },
    {
      "cell_type": "markdown",
      "metadata": {
        "id": "rW4-CDbhTRWB",
        "colab_type": "text"
      },
      "source": [
        "# Preprocessing"
      ]
    },
    {
      "cell_type": "markdown",
      "metadata": {
        "id": "dJv8BROdT4xK",
        "colab_type": "text"
      },
      "source": [
        "\n",
        "\n",
        "It is important to scale features before training a neural network. Min-max normalization is a common way of doing this scaling.You could also use any other normalization method that rescales the values into a range of [0,1].\n",
        "\n",
        "> MIN-MAX NORMALIZATION <br/>\n",
        "><img src=\"https://www.oreilly.com/library/view/regression-analysis-with/9781788627306/assets/ffb3ac78-fd6f-4340-aa92-cde8ae0322d6.png\" alt=\"min max formula\" width=\"185\"/>\n",
        "><br/>\n",
        "><img src=\"https://www.researchgate.net/publication/282541174/figure/fig1/AS:307388692353061@1450298583749/Min-max-method-of-normalization.png\" alt=\"min max formula\" width=\"350\"/>\n",
        "\n",
        "\n",
        "\n",
        "\n",
        "\n"
      ]
    },
    {
      "cell_type": "code",
      "metadata": {
        "id": "qUJdDtddLemt",
        "colab_type": "code",
        "colab": {}
      },
      "source": [
        "def normalize(ts, norm_params):\n",
        "  \"\"\"\n",
        "  Apply min-max normalization\n",
        "  :param data: time series\n",
        "  :param norm_params: tuple with params mean, std, max, min\n",
        "  :return: normalized time series\n",
        "  \"\"\"\n",
        "  return (ts - norm_params['min']) / (norm_params['max'] - norm_params['min'])"
      ],
      "execution_count": 0,
      "outputs": []
    },
    {
      "cell_type": "code",
      "metadata": {
        "id": "U6Gl8j2jUK3b",
        "colab_type": "code",
        "colab": {}
      },
      "source": [
        "#Let's normalize the data.\n",
        "ts_list_train_norm = []\n",
        "# Save training norm params in order to use it for the test data \n",
        "norm_params_list = []\n",
        "\n",
        "for ts in ts_list_train:\n",
        "  norm_params = {}\n",
        "  norm_params['mean'] = ts.mean()\n",
        "  norm_params['std'] = ts.std()\n",
        "  norm_params['max'] = ts.max()\n",
        "  norm_params['min'] = ts.min()\n",
        "  norm_params_list.append(norm_params)\n",
        "\n",
        "  ts_norm = normalize(ts, norm_params)\n",
        "  ts_list_train_norm.append(ts_norm)\n"
      ],
      "execution_count": 0,
      "outputs": []
    },
    {
      "cell_type": "code",
      "metadata": {
        "id": "24iSdDmFYpk_",
        "colab_type": "code",
        "colab": {}
      },
      "source": [
        "# Lets normalize the test data\n",
        "ts_list_test_norm = []\n",
        "for i, ts in enumerate(ts_list_test):\n",
        "  norm_params = norm_params_list[i]\n",
        "  ts_norm = normalize(ts, norm_params)\n",
        "  ts_list_test_norm.append(ts_norm)\n"
      ],
      "execution_count": 0,
      "outputs": []
    },
    {
      "cell_type": "code",
      "metadata": {
        "id": "8ZOmpIKzYwxQ",
        "colab_type": "code",
        "colab": {}
      },
      "source": [
        "# This is how the time series look like now. I has kept \n",
        "fig, ax = plt.subplots(nrows=1, ncols=1, figsize=(15,6))\n",
        "\n",
        "x = [most_recent_measure - datetime.timedelta(hours=i-1, minutes=0) for i  in range(ts_list_train_norm[0].shape[0], 0, -1)]\n",
        "ax.plot(x, ts_list_train_norm[0], label=headers[0], c=colors(0))\n",
        "\n",
        "x = [most_recent_measure - datetime.timedelta(hours=i-1, minutes=0) for i  in range(ts_list_train_norm[1].shape[0], 0, -1)]\n",
        "ax.plot(x, ts_list_train_norm[1], label=headers[1], c=colors(1))\n",
        "\n",
        "x = [most_recent_measure - datetime.timedelta(hours=i-1, minutes=0) for i  in range(ts_list_train_norm[2].shape[0], 0, -1)]\n",
        "ax.plot(x, ts_list_train_norm[2], label=headers[2], c=colors(2))\n",
        "\n",
        "x = [most_recent_measure - datetime.timedelta(hours=i-1, minutes=0) for i  in range(ts_list_train_norm[3].shape[0], 0, -1)]\n",
        "ax.plot(x, ts_list_train_norm[3], label=headers[3], c=colors(3))\n",
        "\n",
        "ax.legend()\n",
        "ax.set_title('CRYPTOCURRENCIES (Normalized data)')\n",
        "plt.show()"
      ],
      "execution_count": 0,
      "outputs": []
    },
    {
      "cell_type": "markdown",
      "metadata": {
        "id": "k_hDeIVWcqsF",
        "colab_type": "text"
      },
      "source": [
        "Let's now create the data for the model. The model will be given the last 120 hours (5 days) recorded price values, and needs to learn to predict the price at the next time 24 hours. "
      ]
    },
    {
      "cell_type": "code",
      "metadata": {
        "id": "f10lnnrXercs",
        "colab_type": "code",
        "colab": {}
      },
      "source": [
        "past_history = 120\n",
        "forecast_horizon = 24"
      ],
      "execution_count": 0,
      "outputs": []
    },
    {
      "cell_type": "code",
      "metadata": {
        "id": "ynYcd9r3e9cT",
        "colab_type": "code",
        "colab": {}
      },
      "source": [
        "x_train, y_train = [], []\n",
        "x_test, y_test = [], []\n",
        "\n",
        "for i, ts in enumerate(ts_list_train_norm):\n",
        "  # Train data\n",
        "  ts_x_train, ts_y_train = [], []\n",
        "  for j in range(0, ts.shape[0] - forecast_horizon + 1):\n",
        "      indices = range(j - history_size, j, 1)\n",
        "      # Reshape data from (history_size,) to (history_size, 1)\n",
        "      ts_x_train.append(np.reshape(ts[indices], (history_size, 1)))\n",
        "      ts_y_train.append(ts[j:j + forecast_horizon])\n",
        "  x_train.extend(np.asarray(ts_x_train))\n",
        "  y_train.extend(np.asarray(ts_y_train))\n",
        "  # Test data\n",
        "  ts_x_test = np.reshape(np.asarray(ts[-past_history:]), (history_size, 1))\n",
        "  ts_y_test=  ts_list_test_norm[i]\n",
        "  x_test.extend(np.asarray([ts_x_test]))\n",
        "  #y_test.extend(np.asarray([ts_y_test]))\n",
        "  #x_test.extend(np.asarray([ts_x_test]))\n",
        "  y_test.append(np.asarray(ts_y_test))\n",
        "\n",
        "x_train, y_train = np.asarray(x_train), np.asarray(y_train)\n",
        "x_test, y_test = np.asarray(x_test), np.asarray(y_test)\n",
        "\n",
        "print(\"TRAINING DATA\")\n",
        "print(\"Input shape\", x_train.shape)\n",
        "print(\"Output_shape\", y_train.shape)\n",
        "print()\n",
        "print(\"TEST DATA\")\n",
        "print(\"Input shape\", x_test.shape)\n",
        "print(\"Output_shape\", y_test.shape)\n",
        "\n"
      ],
      "execution_count": 0,
      "outputs": []
    },
    {
      "cell_type": "code",
      "metadata": {
        "id": "4Z6lAZwPn2w7",
        "colab_type": "code",
        "colab": {}
      },
      "source": [
        ""
      ],
      "execution_count": 0,
      "outputs": []
    }
  ]
}